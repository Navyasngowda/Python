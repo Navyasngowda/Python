{
 "cells": [
  {
   "cell_type": "code",
   "execution_count": null,
   "id": "1d1d0be7",
   "metadata": {},
   "outputs": [],
   "source": [
    "#4.Implement a python program to demonstrate\n",
    "#1) Importing Datasets\n",
    "#2) Cleaning the Data\n",
    "#3) Data frame manipulation using Numpy\n",
    "\n",
    "#1.Importing Datasets\n",
    "import pandas as pd\n",
    "import io\n",
    "import numpy as np\n",
    "\n",
    "# Read the data from the dataset into your pandas dataframe.\n",
    "data = pd.read_csv('file.csv')\n",
    "data.head(11) #displays first 11 records\n",
    "\n"
   ]
  },
  {
   "cell_type": "code",
   "execution_count": null,
   "id": "44537951",
   "metadata": {},
   "outputs": [],
   "source": [
    "#2) Cleaning Datasets\n",
    "# remove duplicate rows\n",
    "data.drop_duplicates(subset=[\"Name\"], keep=\"last\", inplace=True)\n",
    "data.head(10)\n",
    "data.isnull().sum()\n",
    "#Missing Data:\n",
    "#Size of original dataset\n",
    "print(data.shape)\n",
    "#Dropping the missing rows.\n",
    "df_dropped = data.dropna()\n",
    "data.head()\n",
    "#Fill with provided value\n",
    "data['Address']=data['Address'].fillna('Coorg')\n",
    "data.head()\n",
    "#Fill with provided value\n",
    "mean_val=data['Mobile'].mean()\n",
    "data['Mobile']=data['Mobile'].fillna(mean_val)\n",
    "data"
   ]
  },
  {
   "cell_type": "code",
   "execution_count": null,
   "id": "c7d2420b",
   "metadata": {},
   "outputs": [],
   "source": [
    "#3)Data frame manipulation using Numpy\n",
    "'''\n",
    "Here we use Numpy arrays concept of create an array and\n",
    "Add their rows and column names.\n",
    "We are demonstrating how we could work with datas easily using numpy library.\n",
    "'''\n",
    "# importiong the modules\n",
    "import pandas as pd\n",
    "import numpy as np\n",
    "# creating the Numpy array\n",
    "array = np.array([[1, 1, 1], [2, 3, 8], [3, 5, 27],])\n",
    "# creating a list of index names\n",
    "index_values = ['Row1', 'Row2', 'Row3']\n",
    "# creating a list of column names\n",
    "column_values = ['Col1', 'Col2', 'Col3']\n",
    "# creating the dataframe\n",
    "df = pd.DataFrame(data = array,\n",
    "index = index_values,\n",
    "columns = column_values)\n",
    "# displaying the dataframe\n",
    "print(df)\n",
    "# calculating the Trace of a matrix\n",
    "trace = np.trace(df)\n",
    "print(\"\\nTrace of given 3X3 matrix:\")\n",
    "print(trace)\n",
    "#Trace of the matrix refers to the sum of Diagonal elements. "
   ]
  }
 ],
 "metadata": {
  "kernelspec": {
   "display_name": "Python 3 (ipykernel)",
   "language": "python",
   "name": "python3"
  },
  "language_info": {
   "codemirror_mode": {
    "name": "ipython",
    "version": 3
   },
   "file_extension": ".py",
   "mimetype": "text/x-python",
   "name": "python",
   "nbconvert_exporter": "python",
   "pygments_lexer": "ipython3",
   "version": "3.9.13"
  }
 },
 "nbformat": 4,
 "nbformat_minor": 5
}
