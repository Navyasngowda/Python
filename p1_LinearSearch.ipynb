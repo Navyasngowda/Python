{
 "cells": [
  {
   "cell_type": "code",
   "execution_count": 3,
   "id": "f705706d",
   "metadata": {},
   "outputs": [
    {
     "name": "stdout",
     "output_type": "stream",
     "text": [
      "How many elements4\n",
      "2\n",
      "6\n",
      "3\n",
      "8\n",
      "[2, 6, 3, 8]\n",
      "Enter the search element :3\n",
      "Element  3  is found at position  3\n"
     ]
    }
   ],
   "source": [
    "#1.Write a Python program to perform linear search\n",
    "list1=[]\n",
    "ele=int(input(\"How many elements\"))\n",
    "for i in range(ele):\n",
    "  list1.append(int(input()))\n",
    "print(list1)\n",
    "ele=int(input(\"Enter the search element :\"))\n",
    "for i in list1:\n",
    "  if ele==i:\n",
    "    print(\"Element \",ele,\" is found at position \",list1.index(ele)+1)\n",
    "    break\n",
    "else:\n",
    "  print(\"Element \",ele,\" not found in the list\")\n"
   ]
  },
  {
   "cell_type": "code",
   "execution_count": null,
   "id": "2d4c41ca",
   "metadata": {},
   "outputs": [],
   "source": []
  }
 ],
 "metadata": {
  "kernelspec": {
   "display_name": "Python 3 (ipykernel)",
   "language": "python",
   "name": "python3"
  },
  "language_info": {
   "codemirror_mode": {
    "name": "ipython",
    "version": 3
   },
   "file_extension": ".py",
   "mimetype": "text/x-python",
   "name": "python",
   "nbconvert_exporter": "python",
   "pygments_lexer": "ipython3",
   "version": "3.9.13"
  }
 },
 "nbformat": 4,
 "nbformat_minor": 5
}
